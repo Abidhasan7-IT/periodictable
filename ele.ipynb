{
 "cells": [
  {
   "cell_type": "code",
   "execution_count": 20,
   "metadata": {},
   "outputs": [
    {
     "name": "stdout",
     "output_type": "stream",
     "text": [
      "Name: bromine\n",
      "Atomic Number: 35\n",
      "Atomic Mass: 79.904\n"
     ]
    }
   ],
   "source": [
    "import periodictable\n",
    "\n",
    "def get_element(sym):    \n",
    "    # Check if the element was found\n",
    "    if not periodictable.elements.symbol(sym):\n",
    "        print(\"Invalid element symbol.\")\n",
    "        return\n",
    "    element = periodictable.elements.symbol(sym)\n",
    "    # If valid, print the element's details\n",
    "    print(f\"Name: {element.name}\")\n",
    "    print(f\"Atomic Number: {element.number}\")\n",
    "    print(f\"Atomic Mass: {element.mass}\")\n",
    "\n",
    "get_element(\"Br\")"
   ]
  }
 ],
 "metadata": {
  "kernelspec": {
   "display_name": "Python 3",
   "language": "python",
   "name": "python3"
  },
  "language_info": {
   "codemirror_mode": {
    "name": "ipython",
    "version": 3
   },
   "file_extension": ".py",
   "mimetype": "text/x-python",
   "name": "python",
   "nbconvert_exporter": "python",
   "pygments_lexer": "ipython3",
   "version": "3.12.0"
  }
 },
 "nbformat": 4,
 "nbformat_minor": 2
}
